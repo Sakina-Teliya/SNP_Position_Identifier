{
  "nbformat": 4,
  "nbformat_minor": 0,
  "metadata": {
    "colab": {
      "provenance": [],
      "authorship_tag": "ABX9TyOcOJu2t/1A96kxn5si6Gwn",
      "include_colab_link": true
    },
    "kernelspec": {
      "name": "python3",
      "display_name": "Python 3"
    },
    "language_info": {
      "name": "python"
    }
  },
  "cells": [
    {
      "cell_type": "markdown",
      "metadata": {
        "id": "view-in-github",
        "colab_type": "text"
      },
      "source": [
        "<a href=\"https://colab.research.google.com/github/Sakina-Teliya/SNP_Position_Identifier/blob/main/SNP_Position_Identifier.ipynb\" target=\"_parent\"><img src=\"https://colab.research.google.com/assets/colab-badge.svg\" alt=\"Open In Colab\"/></a>"
      ]
    },
    {
      "cell_type": "markdown",
      "source": [
        "A python tool that detects single nucleotide differences (SNPs) between two DNA sequences of equal length."
      ],
      "metadata": {
        "id": "5mKr31yfcWV5"
      }
    },
    {
      "cell_type": "code",
      "source": [
        "# SNP Position Identifier\n",
        "\n",
        "# Sample input DNA sequences\n",
        "seq1 = input(\"Enter first DNA sequence: \").upper()\n",
        "seq2 = input(\"Enter second DNA sequence: \").upper()\n",
        "\n",
        "# Check if sequences are the same length\n",
        "if len(seq1) != len(seq2):\n",
        "  print(\"Error: Sequences are not the same length. Please enter sequences of equal length\")\n",
        "else:\n",
        "  mismatches = []\n",
        "\n",
        "  for i in range(len(seq1)):\n",
        "    if seq1[i] != seq2[i]:\n",
        "      # Append a tuple containing the position (i+1), the base in seq1, and the base in seq2\n",
        "      mismatches.append((i+1, seq1[i], seq2[i]))\n",
        "\n",
        "  # Output results\n",
        "  print(f\"Total mismatches (SNPs): {len(mismatches)}\")\n",
        "  print(f\"SNP positions: {mismatches}\")"
      ],
      "metadata": {
        "colab": {
          "base_uri": "https://localhost:8080/"
        },
        "id": "TQRcEk6ajsNu",
        "outputId": "6962356f-b241-48c5-8f6b-4dd231070e51"
      },
      "execution_count": null,
      "outputs": [
        {
          "output_type": "stream",
          "name": "stdout",
          "text": [
            "Enter first DNA sequence: ATGCCGTAAGCT\n",
            "Enter second DNA sequence: GCTAACTGCTAG\n",
            "Total mismatches (SNPs): 11\n",
            "SNP positions: [(1, 'A', 'G'), (2, 'T', 'C'), (3, 'G', 'T'), (4, 'C', 'A'), (5, 'C', 'A'), (6, 'G', 'C'), (8, 'A', 'G'), (9, 'A', 'C'), (10, 'G', 'T'), (11, 'C', 'A'), (12, 'T', 'G')]\n"
          ]
        }
      ]
    }
  ]
}